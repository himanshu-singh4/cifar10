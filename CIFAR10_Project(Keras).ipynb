{
 "cells": [
  {
   "cell_type": "code",
   "execution_count": 0,
   "metadata": {
    "colab": {
     "base_uri": "https://localhost:8080/",
     "height": 81
    },
    "colab_type": "code",
    "executionInfo": {
     "elapsed": 3113,
     "status": "ok",
     "timestamp": 1573394333470,
     "user": {
      "displayName": "Himanshu Singh",
      "photoUrl": "https://lh3.googleusercontent.com/a-/AAuE7mCk6gm_Z9iO-YyYJ5P8bVuPC_OZR14I3EHVt_VKgg=s64",
      "userId": "16757715009564006896"
     },
     "user_tz": -330
    },
    "id": "h8Bw_Udp_Iin",
    "outputId": "f0fba64a-11ac-4a50-b82f-584d0af199c3"
   },
   "outputs": [
    {
     "name": "stderr",
     "output_type": "stream",
     "text": [
      "Using TensorFlow backend.\n"
     ]
    },
    {
     "data": {
      "text/html": [
       "<p style=\"color: red;\">\n",
       "The default version of TensorFlow in Colab will soon switch to TensorFlow 2.x.<br>\n",
       "We recommend you <a href=\"https://www.tensorflow.org/guide/migrate\" target=\"_blank\">upgrade</a> now \n",
       "or ensure your notebook will continue to use TensorFlow 1.x via the <code>%tensorflow_version 1.x</code> magic:\n",
       "<a href=\"https://colab.research.google.com/notebooks/tensorflow_version.ipynb\" target=\"_blank\">more info</a>.</p>\n"
      ],
      "text/plain": [
       "<IPython.core.display.HTML object>"
      ]
     },
     "metadata": {
      "tags": []
     },
     "output_type": "display_data"
    }
   ],
   "source": [
    "import numpy as np\n",
    "import pandas as pd\n",
    "import matplotlib.pyplot as plt\n",
    "import keras"
   ]
  },
  {
   "cell_type": "code",
   "execution_count": 0,
   "metadata": {
    "colab": {},
    "colab_type": "code",
    "id": "54kGNePX_4ou"
   },
   "outputs": [],
   "source": [
    "import cifar10\n",
    "cifar10.data_path = \"data/CIFAR-10/\""
   ]
  },
  {
   "cell_type": "code",
   "execution_count": 0,
   "metadata": {
    "colab": {
     "base_uri": "https://localhost:8080/",
     "height": 70
    },
    "colab_type": "code",
    "executionInfo": {
     "elapsed": 62539,
     "status": "ok",
     "timestamp": 1570585662339,
     "user": {
      "displayName": "Himanshu Singh",
      "photoUrl": "https://lh3.googleusercontent.com/a-/AAuE7mCk6gm_Z9iO-YyYJ5P8bVuPC_OZR14I3EHVt_VKgg=s64",
      "userId": "16757715009564006896"
     },
     "user_tz": -330
    },
    "id": "AUGvJVG4APyy",
    "outputId": "5a1d09ae-23ac-4730-8b43-68a85d4a05de"
   },
   "outputs": [
    {
     "name": "stdout",
     "output_type": "stream",
     "text": [
      "- Download progress: 100.0%\n",
      "Download finished. Extracting files.\n",
      "Done.\n"
     ]
    }
   ],
   "source": [
    "cifar10.maybe_download_and_extract()"
   ]
  },
  {
   "cell_type": "code",
   "execution_count": 0,
   "metadata": {
    "colab": {
     "base_uri": "https://localhost:8080/",
     "height": 210
    },
    "colab_type": "code",
    "executionInfo": {
     "elapsed": 60200,
     "status": "ok",
     "timestamp": 1570585662343,
     "user": {
      "displayName": "Himanshu Singh",
      "photoUrl": "https://lh3.googleusercontent.com/a-/AAuE7mCk6gm_Z9iO-YyYJ5P8bVuPC_OZR14I3EHVt_VKgg=s64",
      "userId": "16757715009564006896"
     },
     "user_tz": -330
    },
    "id": "bqaQN1WyASzc",
    "outputId": "87e9539c-bff6-4c02-bf60-34c1149cbbce"
   },
   "outputs": [
    {
     "name": "stdout",
     "output_type": "stream",
     "text": [
      "Loading data: data/CIFAR-10/cifar-10-batches-py/batches.meta\n"
     ]
    },
    {
     "data": {
      "text/plain": [
       "['airplane',\n",
       " 'automobile',\n",
       " 'bird',\n",
       " 'cat',\n",
       " 'deer',\n",
       " 'dog',\n",
       " 'frog',\n",
       " 'horse',\n",
       " 'ship',\n",
       " 'truck']"
      ]
     },
     "execution_count": 6,
     "metadata": {
      "tags": []
     },
     "output_type": "execute_result"
    }
   ],
   "source": [
    "class_names = cifar10.load_class_names()\n",
    "class_names"
   ]
  },
  {
   "cell_type": "code",
   "execution_count": 0,
   "metadata": {
    "colab": {
     "base_uri": "https://localhost:8080/",
     "height": 122
    },
    "colab_type": "code",
    "executionInfo": {
     "elapsed": 57110,
     "status": "ok",
     "timestamp": 1570585662344,
     "user": {
      "displayName": "Himanshu Singh",
      "photoUrl": "https://lh3.googleusercontent.com/a-/AAuE7mCk6gm_Z9iO-YyYJ5P8bVuPC_OZR14I3EHVt_VKgg=s64",
      "userId": "16757715009564006896"
     },
     "user_tz": -330
    },
    "id": "lmTc989OAWX2",
    "outputId": "a0608825-7b54-435f-e6d3-671ff20492e5"
   },
   "outputs": [
    {
     "name": "stdout",
     "output_type": "stream",
     "text": [
      "Loading data: data/CIFAR-10/cifar-10-batches-py/data_batch_1\n",
      "Loading data: data/CIFAR-10/cifar-10-batches-py/data_batch_2\n",
      "Loading data: data/CIFAR-10/cifar-10-batches-py/data_batch_3\n",
      "Loading data: data/CIFAR-10/cifar-10-batches-py/data_batch_4\n",
      "Loading data: data/CIFAR-10/cifar-10-batches-py/data_batch_5\n",
      "Loading data: data/CIFAR-10/cifar-10-batches-py/test_batch\n"
     ]
    }
   ],
   "source": [
    "images_train, cls_train, labels_train = cifar10.load_training_data()\n",
    "images_test, cls_test, labels_test = cifar10.load_test_data()"
   ]
  },
  {
   "cell_type": "code",
   "execution_count": 0,
   "metadata": {
    "colab": {
     "base_uri": "https://localhost:8080/",
     "height": 34
    },
    "colab_type": "code",
    "executionInfo": {
     "elapsed": 54684,
     "status": "ok",
     "timestamp": 1570585662345,
     "user": {
      "displayName": "Himanshu Singh",
      "photoUrl": "https://lh3.googleusercontent.com/a-/AAuE7mCk6gm_Z9iO-YyYJ5P8bVuPC_OZR14I3EHVt_VKgg=s64",
      "userId": "16757715009564006896"
     },
     "user_tz": -330
    },
    "id": "oufEoi-V7k9b",
    "outputId": "326854c0-f2e4-4289-95c1-18d8afa39283"
   },
   "outputs": [
    {
     "data": {
      "text/plain": [
       "(50000, 32, 32, 3)"
      ]
     },
     "execution_count": 8,
     "metadata": {
      "tags": []
     },
     "output_type": "execute_result"
    }
   ],
   "source": [
    "images_train.shape"
   ]
  },
  {
   "cell_type": "code",
   "execution_count": 0,
   "metadata": {
    "colab": {
     "base_uri": "https://localhost:8080/",
     "height": 140
    },
    "colab_type": "code",
    "executionInfo": {
     "elapsed": 52409,
     "status": "ok",
     "timestamp": 1570585662346,
     "user": {
      "displayName": "Himanshu Singh",
      "photoUrl": "https://lh3.googleusercontent.com/a-/AAuE7mCk6gm_Z9iO-YyYJ5P8bVuPC_OZR14I3EHVt_VKgg=s64",
      "userId": "16757715009564006896"
     },
     "user_tz": -330
    },
    "id": "fFshYM_1JdU9",
    "outputId": "92d460ef-d156-44fc-cb44-42cf3f8e5593"
   },
   "outputs": [
    {
     "data": {
      "text/plain": [
       "array([[0., 0., 0., ..., 0., 0., 0.],\n",
       "       [0., 0., 0., ..., 0., 0., 1.],\n",
       "       [0., 0., 0., ..., 0., 0., 1.],\n",
       "       ...,\n",
       "       [0., 0., 0., ..., 0., 0., 1.],\n",
       "       [0., 1., 0., ..., 0., 0., 0.],\n",
       "       [0., 1., 0., ..., 0., 0., 0.]])"
      ]
     },
     "execution_count": 9,
     "metadata": {
      "tags": []
     },
     "output_type": "execute_result"
    }
   ],
   "source": [
    "labels_train"
   ]
  },
  {
   "cell_type": "code",
   "execution_count": 0,
   "metadata": {
    "colab": {
     "base_uri": "https://localhost:8080/",
     "height": 527
    },
    "colab_type": "code",
    "executionInfo": {
     "elapsed": 50160,
     "status": "ok",
     "timestamp": 1570585662347,
     "user": {
      "displayName": "Himanshu Singh",
      "photoUrl": "https://lh3.googleusercontent.com/a-/AAuE7mCk6gm_Z9iO-YyYJ5P8bVuPC_OZR14I3EHVt_VKgg=s64",
      "userId": "16757715009564006896"
     },
     "user_tz": -330
    },
    "id": "n9i9ldevAbqG",
    "outputId": "c83746ec-4bb8-4d81-c17c-e35dfb4f5f1e"
   },
   "outputs": [
    {
     "data": {
      "image/png": "[encoded data removed]",
      "text/plain": [
       "<Figure size 576x576 with 32 Axes>"
      ]
     },
     "metadata": {
      "tags": []
     },
     "output_type": "display_data"
    }
   ],
   "source": [
    "def print_images(no_of_images):\n",
    "    fig = plt.figure(figsize=(8,8))\n",
    "    for i in range(no_of_images):\n",
    "        ax = fig.add_subplot(8, 8, i+1)\n",
    "        plt.subplots_adjust(top=2)\n",
    "        ax.imshow(images_train[i])\n",
    "        ax.set_xlabel(class_names[cls_train[i]])\n",
    "    plt.show()\n",
    "print_images(32)"
   ]
  },
  {
   "cell_type": "code",
   "execution_count": 0,
   "metadata": {
    "colab": {},
    "colab_type": "code",
    "id": "oS4qQ8WNCez7"
   },
   "outputs": [],
   "source": [
    "from keras.models import Sequential, load_model\n",
    "from keras.optimizers import Adam\n",
    "from keras.callbacks import ModelCheckpoint\n",
    "from keras.layers import Lambda, Conv2D, MaxPooling2D, Dropout, Dense, Flatten, Activation"
   ]
  },
  {
   "cell_type": "code",
   "execution_count": 0,
   "metadata": {
    "colab": {
     "base_uri": "https://localhost:8080/",
     "height": 34
    },
    "colab_type": "code",
    "executionInfo": {
     "elapsed": 44646,
     "status": "ok",
     "timestamp": 1570585662349,
     "user": {
      "displayName": "Himanshu Singh",
      "photoUrl": "https://lh3.googleusercontent.com/a-/AAuE7mCk6gm_Z9iO-YyYJ5P8bVuPC_OZR14I3EHVt_VKgg=s64",
      "userId": "16757715009564006896"
     },
     "user_tz": -330
    },
    "id": "FCHOnrH_DNCP",
    "outputId": "c8d0034b-38f7-40fa-b4f5-d57f6e3d4a33"
   },
   "outputs": [
    {
     "data": {
      "text/plain": [
       "10"
      ]
     },
     "execution_count": 12,
     "metadata": {
      "tags": []
     },
     "output_type": "execute_result"
    }
   ],
   "source": [
    "no_of_classes = len(class_names)\n",
    "no_of_classes"
   ]
  },
  {
   "cell_type": "code",
   "execution_count": 0,
   "metadata": {
    "colab": {},
    "colab_type": "code",
    "id": "5fgST6yTDlwY"
   },
   "outputs": [],
   "source": [
    "IMAGE_SIZE = 32\n",
    "CHANNELS = 3"
   ]
  },
  {
   "cell_type": "code",
   "execution_count": 0,
   "metadata": {
    "colab": {},
    "colab_type": "code",
    "id": "FtyK7_M4D2x9"
   },
   "outputs": [],
   "source": []
  },
  {
   "cell_type": "code",
   "execution_count": 0,
   "metadata": {
    "colab": {
     "base_uri": "https://localhost:8080/",
     "height": 829
    },
    "colab_type": "code",
    "executionInfo": {
     "elapsed": 1521,
     "status": "ok",
     "timestamp": 1570259037941,
     "user": {
      "displayName": "Himanshu Singh",
      "photoUrl": "https://lh3.googleusercontent.com/a-/AAuE7mCk6gm_Z9iO-YyYJ5P8bVuPC_OZR14I3EHVt_VKgg=s64",
      "userId": "16757715009564006896"
     },
     "user_tz": -330
    },
    "id": "sWJTsTu8FZl7",
    "outputId": "d99d578c-1c5b-4fb0-9bd2-b8cca1d83606"
   },
   "outputs": [
    {
     "name": "stdout",
     "output_type": "stream",
     "text": [
      "WARNING:tensorflow:From /usr/local/lib/python3.6/dist-packages/keras/backend/tensorflow_backend.py:66: The name tf.get_default_graph is deprecated. Please use tf.compat.v1.get_default_graph instead.\n",
      "\n",
      "WARNING:tensorflow:From /usr/local/lib/python3.6/dist-packages/keras/backend/tensorflow_backend.py:541: The name tf.placeholder is deprecated. Please use tf.compat.v1.placeholder instead.\n",
      "\n",
      "WARNING:tensorflow:From /usr/local/lib/python3.6/dist-packages/keras/backend/tensorflow_backend.py:4432: The name tf.random_uniform is deprecated. Please use tf.random.uniform instead.\n",
      "\n",
      "WARNING:tensorflow:From /usr/local/lib/python3.6/dist-packages/keras/backend/tensorflow_backend.py:4267: The name tf.nn.max_pool is deprecated. Please use tf.nn.max_pool2d instead.\n",
      "\n",
      "WARNING:tensorflow:From /usr/local/lib/python3.6/dist-packages/keras/backend/tensorflow_backend.py:148: The name tf.placeholder_with_default is deprecated. Please use tf.compat.v1.placeholder_with_default instead.\n",
      "\n",
      "WARNING:tensorflow:From /usr/local/lib/python3.6/dist-packages/keras/backend/tensorflow_backend.py:3733: calling dropout (from tensorflow.python.ops.nn_ops) with keep_prob is deprecated and will be removed in a future version.\n",
      "Instructions for updating:\n",
      "Please use `rate` instead of `keep_prob`. Rate should be set to `rate = 1 - keep_prob`.\n",
      "Model: \"sequential_1\"\n",
      "_________________________________________________________________\n",
      "Layer (type)                 Output Shape              Param #   \n",
      "=================================================================\n",
      "conv2d_1 (Conv2D)            (None, 32, 32, 96)        2688      \n",
      "_________________________________________________________________\n",
      "conv2d_2 (Conv2D)            (None, 30, 30, 96)        83040     \n",
      "_________________________________________________________________\n",
      "max_pooling2d_1 (MaxPooling2 (None, 15, 15, 96)        0         \n",
      "_________________________________________________________________\n",
      "dropout_1 (Dropout)          (None, 15, 15, 96)        0         \n",
      "_________________________________________________________________\n",
      "conv2d_3 (Conv2D)            (None, 15, 15, 192)       166080    \n",
      "_________________________________________________________________\n",
      "conv2d_4 (Conv2D)            (None, 13, 13, 192)       331968    \n",
      "_________________________________________________________________\n",
      "max_pooling2d_2 (MaxPooling2 (None, 6, 6, 192)         0         \n",
      "_________________________________________________________________\n",
      "dropout_2 (Dropout)          (None, 6, 6, 192)         0         \n",
      "_________________________________________________________________\n",
      "flatten_1 (Flatten)          (None, 6912)              0         \n",
      "_________________________________________________________________\n",
      "dense_1 (Dense)              (None, 512)               3539456   \n",
      "_________________________________________________________________\n",
      "dropout_3 (Dropout)          (None, 512)               0         \n",
      "_________________________________________________________________\n",
      "dense_2 (Dense)              (None, 10)                5130      \n",
      "=================================================================\n",
      "Total params: 4,128,362\n",
      "Trainable params: 4,128,362\n",
      "Non-trainable params: 0\n",
      "_________________________________________________________________\n"
     ]
    }
   ],
   "source": [
    "model = cnn_model()"
   ]
  },
  {
   "cell_type": "code",
   "execution_count": 0,
   "metadata": {
    "colab": {},
    "colab_type": "code",
    "id": "z0ncQDSaF5Gw"
   },
   "outputs": [],
   "source": [
    "checkpoint = ModelCheckpoint('best_model_simple.h5',\n",
    "                            monitor='val_loss',\n",
    "                            verbose=0,\n",
    "                            save_best_only = True,\n",
    "                            mode='auto')"
   ]
  },
  {
   "cell_type": "code",
   "execution_count": 0,
   "metadata": {
    "colab": {
     "base_uri": "https://localhost:8080/",
     "height": 87
    },
    "colab_type": "code",
    "executionInfo": {
     "elapsed": 883,
     "status": "ok",
     "timestamp": 1570259043292,
     "user": {
      "displayName": "Himanshu Singh",
      "photoUrl": "https://lh3.googleusercontent.com/a-/AAuE7mCk6gm_Z9iO-YyYJ5P8bVuPC_OZR14I3EHVt_VKgg=s64",
      "userId": "16757715009564006896"
     },
     "user_tz": -330
    },
    "id": "45R2UCz7IHyS",
    "outputId": "c4b6aeef-c88e-4f88-9017-8f62774b45a1"
   },
   "outputs": [
    {
     "name": "stdout",
     "output_type": "stream",
     "text": [
      "WARNING:tensorflow:From /usr/local/lib/python3.6/dist-packages/keras/optimizers.py:793: The name tf.train.Optimizer is deprecated. Please use tf.compat.v1.train.Optimizer instead.\n",
      "\n",
      "WARNING:tensorflow:From /usr/local/lib/python3.6/dist-packages/keras/backend/tensorflow_backend.py:3576: The name tf.log is deprecated. Please use tf.math.log instead.\n",
      "\n"
     ]
    }
   ],
   "source": [
    "model.compile(loss='categorical_crossentropy',\n",
    "             optimizer=Adam(lr=1.0e-4),\n",
    "             metrics=['accuracy'])"
   ]
  },
  {
   "cell_type": "code",
   "execution_count": 0,
   "metadata": {
    "colab": {
     "base_uri": "https://localhost:8080/",
     "height": 438
    },
    "colab_type": "code",
    "executionInfo": {
     "elapsed": 38202,
     "status": "error",
     "timestamp": 1570262306352,
     "user": {
      "displayName": "Himanshu Singh",
      "photoUrl": "https://lh3.googleusercontent.com/a-/AAuE7mCk6gm_Z9iO-YyYJ5P8bVuPC_OZR14I3EHVt_VKgg=s64",
      "userId": "16757715009564006896"
     },
     "user_tz": -330
    },
    "id": "Rv4dhWajIhBE",
    "outputId": "c7669332-d652-4a37-c144-964b223790bf"
   },
   "outputs": [
    {
     "name": "stdout",
     "output_type": "stream",
     "text": [
      "Train on 50000 samples, validate on 10000 samples\n",
      "Epoch 1/100\n",
      "50000/50000 [==============================] - 32s 640us/step - loss: 0.0453 - acc: 0.9850 - val_loss: 0.8878 - val_acc: 0.8141\n",
      "Epoch 2/100\n",
      " 8576/50000 [====>.........................] - ETA: 24s - loss: 0.0475 - acc: 0.9846"
     ]
    },
    {
     "ename": "KeyboardInterrupt",
     "evalue": "ignored",
     "output_type": "error",
     "traceback": [
      "\u001b[0;31m---------------------------------------------------------------------------\u001b[0m",
      "\u001b[0;31mKeyboardInterrupt\u001b[0m                         Traceback (most recent call last)",
      "\u001b[0;32m<ipython-input-29-e4907b40b016>\u001b[0m in \u001b[0;36m<module>\u001b[0;34m()\u001b[0m\n\u001b[1;32m      4\u001b[0m                        \u001b[0mvalidation_data\u001b[0m\u001b[0;34m=\u001b[0m\u001b[0;34m(\u001b[0m\u001b[0mimages_test\u001b[0m\u001b[0;34m,\u001b[0m\u001b[0mlabels_test\u001b[0m\u001b[0;34m)\u001b[0m\u001b[0;34m,\u001b[0m\u001b[0;34m\u001b[0m\u001b[0;34m\u001b[0m\u001b[0m\n\u001b[1;32m      5\u001b[0m                        \u001b[0mcallbacks\u001b[0m\u001b[0;34m=\u001b[0m\u001b[0;34m[\u001b[0m\u001b[0mcheckpoint\u001b[0m\u001b[0;34m]\u001b[0m\u001b[0;34m,\u001b[0m\u001b[0;34m\u001b[0m\u001b[0;34m\u001b[0m\u001b[0m\n\u001b[0;32m----> 6\u001b[0;31m                        verbose=1)\n\u001b[0m",
      "\u001b[0;32m/usr/local/lib/python3.6/dist-packages/keras/engine/training.py\u001b[0m in \u001b[0;36mfit\u001b[0;34m(self, x, y, batch_size, epochs, verbose, callbacks, validation_split, validation_data, shuffle, class_weight, sample_weight, initial_epoch, steps_per_epoch, validation_steps, validation_freq, max_queue_size, workers, use_multiprocessing, **kwargs)\u001b[0m\n\u001b[1;32m   1176\u001b[0m                                         \u001b[0msteps_per_epoch\u001b[0m\u001b[0;34m=\u001b[0m\u001b[0msteps_per_epoch\u001b[0m\u001b[0;34m,\u001b[0m\u001b[0;34m\u001b[0m\u001b[0;34m\u001b[0m\u001b[0m\n\u001b[1;32m   1177\u001b[0m                                         \u001b[0mvalidation_steps\u001b[0m\u001b[0;34m=\u001b[0m\u001b[0mvalidation_steps\u001b[0m\u001b[0;34m,\u001b[0m\u001b[0;34m\u001b[0m\u001b[0;34m\u001b[0m\u001b[0m\n\u001b[0;32m-> 1178\u001b[0;31m                                         validation_freq=validation_freq)\n\u001b[0m\u001b[1;32m   1179\u001b[0m \u001b[0;34m\u001b[0m\u001b[0m\n\u001b[1;32m   1180\u001b[0m     def evaluate(self,\n",
      "\u001b[0;32m/usr/local/lib/python3.6/dist-packages/keras/engine/training_arrays.py\u001b[0m in \u001b[0;36mfit_loop\u001b[0;34m(model, fit_function, fit_inputs, out_labels, batch_size, epochs, verbose, callbacks, val_function, val_inputs, shuffle, callback_metrics, initial_epoch, steps_per_epoch, validation_steps, validation_freq)\u001b[0m\n\u001b[1;32m    202\u001b[0m                     \u001b[0mins_batch\u001b[0m\u001b[0;34m[\u001b[0m\u001b[0mi\u001b[0m\u001b[0;34m]\u001b[0m \u001b[0;34m=\u001b[0m \u001b[0mins_batch\u001b[0m\u001b[0;34m[\u001b[0m\u001b[0mi\u001b[0m\u001b[0;34m]\u001b[0m\u001b[0;34m.\u001b[0m\u001b[0mtoarray\u001b[0m\u001b[0;34m(\u001b[0m\u001b[0;34m)\u001b[0m\u001b[0;34m\u001b[0m\u001b[0;34m\u001b[0m\u001b[0m\n\u001b[1;32m    203\u001b[0m \u001b[0;34m\u001b[0m\u001b[0m\n\u001b[0;32m--> 204\u001b[0;31m                 \u001b[0mouts\u001b[0m \u001b[0;34m=\u001b[0m \u001b[0mfit_function\u001b[0m\u001b[0;34m(\u001b[0m\u001b[0mins_batch\u001b[0m\u001b[0;34m)\u001b[0m\u001b[0;34m\u001b[0m\u001b[0;34m\u001b[0m\u001b[0m\n\u001b[0m\u001b[1;32m    205\u001b[0m                 \u001b[0mouts\u001b[0m \u001b[0;34m=\u001b[0m \u001b[0mto_list\u001b[0m\u001b[0;34m(\u001b[0m\u001b[0mouts\u001b[0m\u001b[0;34m)\u001b[0m\u001b[0;34m\u001b[0m\u001b[0;34m\u001b[0m\u001b[0m\n\u001b[1;32m    206\u001b[0m                 \u001b[0;32mfor\u001b[0m \u001b[0ml\u001b[0m\u001b[0;34m,\u001b[0m \u001b[0mo\u001b[0m \u001b[0;32min\u001b[0m \u001b[0mzip\u001b[0m\u001b[0;34m(\u001b[0m\u001b[0mout_labels\u001b[0m\u001b[0;34m,\u001b[0m \u001b[0mouts\u001b[0m\u001b[0;34m)\u001b[0m\u001b[0;34m:\u001b[0m\u001b[0;34m\u001b[0m\u001b[0;34m\u001b[0m\u001b[0m\n",
      "\u001b[0;32m/usr/local/lib/python3.6/dist-packages/keras/backend/tensorflow_backend.py\u001b[0m in \u001b[0;36m__call__\u001b[0;34m(self, inputs)\u001b[0m\n\u001b[1;32m   2977\u001b[0m                     \u001b[0;32mreturn\u001b[0m \u001b[0mself\u001b[0m\u001b[0;34m.\u001b[0m\u001b[0m_legacy_call\u001b[0m\u001b[0;34m(\u001b[0m\u001b[0minputs\u001b[0m\u001b[0;34m)\u001b[0m\u001b[0;34m\u001b[0m\u001b[0;34m\u001b[0m\u001b[0m\n\u001b[1;32m   2978\u001b[0m \u001b[0;34m\u001b[0m\u001b[0m\n\u001b[0;32m-> 2979\u001b[0;31m             \u001b[0;32mreturn\u001b[0m \u001b[0mself\u001b[0m\u001b[0;34m.\u001b[0m\u001b[0m_call\u001b[0m\u001b[0;34m(\u001b[0m\u001b[0minputs\u001b[0m\u001b[0;34m)\u001b[0m\u001b[0;34m\u001b[0m\u001b[0;34m\u001b[0m\u001b[0m\n\u001b[0m\u001b[1;32m   2980\u001b[0m         \u001b[0;32melse\u001b[0m\u001b[0;34m:\u001b[0m\u001b[0;34m\u001b[0m\u001b[0;34m\u001b[0m\u001b[0m\n\u001b[1;32m   2981\u001b[0m             \u001b[0;32mif\u001b[0m \u001b[0mpy_any\u001b[0m\u001b[0;34m(\u001b[0m\u001b[0mis_tensor\u001b[0m\u001b[0;34m(\u001b[0m\u001b[0mx\u001b[0m\u001b[0;34m)\u001b[0m \u001b[0;32mfor\u001b[0m \u001b[0mx\u001b[0m \u001b[0;32min\u001b[0m \u001b[0minputs\u001b[0m\u001b[0;34m)\u001b[0m\u001b[0;34m:\u001b[0m\u001b[0;34m\u001b[0m\u001b[0;34m\u001b[0m\u001b[0m\n",
      "\u001b[0;32m/usr/local/lib/python3.6/dist-packages/keras/backend/tensorflow_backend.py\u001b[0m in \u001b[0;36m_call\u001b[0;34m(self, inputs)\u001b[0m\n\u001b[1;32m   2935\u001b[0m             \u001b[0mfetched\u001b[0m \u001b[0;34m=\u001b[0m \u001b[0mself\u001b[0m\u001b[0;34m.\u001b[0m\u001b[0m_callable_fn\u001b[0m\u001b[0;34m(\u001b[0m\u001b[0;34m*\u001b[0m\u001b[0marray_vals\u001b[0m\u001b[0;34m,\u001b[0m \u001b[0mrun_metadata\u001b[0m\u001b[0;34m=\u001b[0m\u001b[0mself\u001b[0m\u001b[0;34m.\u001b[0m\u001b[0mrun_metadata\u001b[0m\u001b[0;34m)\u001b[0m\u001b[0;34m\u001b[0m\u001b[0;34m\u001b[0m\u001b[0m\n\u001b[1;32m   2936\u001b[0m         \u001b[0;32melse\u001b[0m\u001b[0;34m:\u001b[0m\u001b[0;34m\u001b[0m\u001b[0;34m\u001b[0m\u001b[0m\n\u001b[0;32m-> 2937\u001b[0;31m             \u001b[0mfetched\u001b[0m \u001b[0;34m=\u001b[0m \u001b[0mself\u001b[0m\u001b[0;34m.\u001b[0m\u001b[0m_callable_fn\u001b[0m\u001b[0;34m(\u001b[0m\u001b[0;34m*\u001b[0m\u001b[0marray_vals\u001b[0m\u001b[0;34m)\u001b[0m\u001b[0;34m\u001b[0m\u001b[0;34m\u001b[0m\u001b[0m\n\u001b[0m\u001b[1;32m   2938\u001b[0m         \u001b[0;32mreturn\u001b[0m \u001b[0mfetched\u001b[0m\u001b[0;34m[\u001b[0m\u001b[0;34m:\u001b[0m\u001b[0mlen\u001b[0m\u001b[0;34m(\u001b[0m\u001b[0mself\u001b[0m\u001b[0;34m.\u001b[0m\u001b[0moutputs\u001b[0m\u001b[0;34m)\u001b[0m\u001b[0;34m]\u001b[0m\u001b[0;34m\u001b[0m\u001b[0;34m\u001b[0m\u001b[0m\n\u001b[1;32m   2939\u001b[0m \u001b[0;34m\u001b[0m\u001b[0m\n",
      "\u001b[0;32m/usr/local/lib/python3.6/dist-packages/tensorflow/python/client/session.py\u001b[0m in \u001b[0;36m__call__\u001b[0;34m(self, *args, **kwargs)\u001b[0m\n\u001b[1;32m   1456\u001b[0m         ret = tf_session.TF_SessionRunCallable(self._session._session,\n\u001b[1;32m   1457\u001b[0m                                                \u001b[0mself\u001b[0m\u001b[0;34m.\u001b[0m\u001b[0m_handle\u001b[0m\u001b[0;34m,\u001b[0m \u001b[0margs\u001b[0m\u001b[0;34m,\u001b[0m\u001b[0;34m\u001b[0m\u001b[0;34m\u001b[0m\u001b[0m\n\u001b[0;32m-> 1458\u001b[0;31m                                                run_metadata_ptr)\n\u001b[0m\u001b[1;32m   1459\u001b[0m         \u001b[0;32mif\u001b[0m \u001b[0mrun_metadata\u001b[0m\u001b[0;34m:\u001b[0m\u001b[0;34m\u001b[0m\u001b[0;34m\u001b[0m\u001b[0m\n\u001b[1;32m   1460\u001b[0m           \u001b[0mproto_data\u001b[0m \u001b[0;34m=\u001b[0m \u001b[0mtf_session\u001b[0m\u001b[0;34m.\u001b[0m\u001b[0mTF_GetBuffer\u001b[0m\u001b[0;34m(\u001b[0m\u001b[0mrun_metadata_ptr\u001b[0m\u001b[0;34m)\u001b[0m\u001b[0;34m\u001b[0m\u001b[0;34m\u001b[0m\u001b[0m\n",
      "\u001b[0;31mKeyboardInterrupt\u001b[0m: "
     ]
    }
   ],
   "source": [
    "model_details=model.fit(images_train, labels_train,\n",
    "                       batch_size=128,\n",
    "                       epochs=100,\n",
    "                       validation_data=(images_test,labels_test),\n",
    "                       callbacks=[checkpoint],\n",
    "                       verbose=1)"
   ]
  },
  {
   "cell_type": "code",
   "execution_count": 0,
   "metadata": {
    "colab": {
     "base_uri": "https://localhost:8080/",
     "height": 34
    },
    "colab_type": "code",
    "executionInfo": {
     "elapsed": 3956,
     "status": "ok",
     "timestamp": 1570262313890,
     "user": {
      "displayName": "Himanshu Singh",
      "photoUrl": "https://lh3.googleusercontent.com/a-/AAuE7mCk6gm_Z9iO-YyYJ5P8bVuPC_OZR14I3EHVt_VKgg=s64",
      "userId": "16757715009564006896"
     },
     "user_tz": -330
    },
    "id": "y4sJbCVhJnUU",
    "outputId": "c867bc78-5ddd-4cea-9ca2-a297465bf4c9"
   },
   "outputs": [
    {
     "data": {
      "text/plain": [
       "[0.8785364572048188, 0.8138]"
      ]
     },
     "execution_count": 30,
     "metadata": {
      "tags": []
     },
     "output_type": "execute_result"
    }
   ],
   "source": [
    "scores = model.evaluate(images_test,labels_test,verbose=0)\n",
    "scores"
   ]
  },
  {
   "cell_type": "code",
   "execution_count": 0,
   "metadata": {
    "colab": {
     "base_uri": "https://localhost:8080/",
     "height": 350
    },
    "colab_type": "code",
    "executionInfo": {
     "elapsed": 2666,
     "status": "ok",
     "timestamp": 1570262319417,
     "user": {
      "displayName": "Himanshu Singh",
      "photoUrl": "https://lh3.googleusercontent.com/a-/AAuE7mCk6gm_Z9iO-YyYJ5P8bVuPC_OZR14I3EHVt_VKgg=s64",
      "userId": "16757715009564006896"
     },
     "user_tz": -330
    },
    "id": "ws2S00QSP-kF",
    "outputId": "d225c5de-195d-4dd2-c73f-cfa7681cf357"
   },
   "outputs": [
    {
     "data": {
      "image/png": "[encoded data removed]",
      "text/plain": [
       "<Figure size 1080x360 with 2 Axes>"
      ]
     },
     "metadata": {
      "tags": []
     },
     "output_type": "display_data"
    }
   ],
   "source": [
    "def plot_model(model_details):\n",
    "\n",
    "    # Create sub-plots\n",
    "    fig, axs = plt.subplots(1,2,figsize=(15,5))\n",
    "    \n",
    "    # Summarize history for accuracy\n",
    "    axs[0].plot(range(1,len(model_details.history['acc'])+1),model_details.history['acc'])\n",
    "    axs[0].plot(range(1,len(model_details.history['val_acc'])+1),model_details.history['val_acc'])\n",
    "    axs[0].set_title('Model Accuracy')\n",
    "    axs[0].set_ylabel('Accuracy')\n",
    "    axs[0].set_xlabel('Epoch')\n",
    "    axs[0].set_xticks(np.arange(1,len(model_details.history['acc'])+1),len(model_details.history['acc'])/10)\n",
    "    axs[0].legend(['train', 'val'], loc='best')\n",
    "    \n",
    "    # Summarize history for loss\n",
    "    axs[1].plot(range(1,len(model_details.history['loss'])+1),model_details.history['loss'])\n",
    "    axs[1].plot(range(1,len(model_details.history['val_loss'])+1),model_details.history['val_loss'])\n",
    "    axs[1].set_title('Model Loss')\n",
    "    axs[1].set_ylabel('Loss')\n",
    "    axs[1].set_xlabel('Epoch')\n",
    "    axs[1].set_xticks(np.arange(1,len(model_details.history['loss'])+1),len(model_details.history['loss'])/10)\n",
    "    axs[1].legend(['train', 'val'], loc='best')\n",
    "    \n",
    "    # Show the plot\n",
    "    plt.show()\n",
    "plot_model(model_details)"
   ]
  },
  {
   "cell_type": "code",
   "execution_count": 0,
   "metadata": {
    "colab": {},
    "colab_type": "code",
    "id": "2kBxd7wNvYhR"
   },
   "outputs": [],
   "source": [
    "from skimage import io\n",
    "import cv2\n",
    "\n",
    "img  = io.imread(\"https://www.daf.co.uk/-/media/images/truck-configurator/background/backgroundvisual.jpg?mw=1200&hash=F0D7B9766E63F24BD21C1CF48EC70EF7BF6A1D70\")\n",
    "new_img = cv2.resize(img,(32,32))\n"
   ]
  },
  {
   "cell_type": "code",
   "execution_count": 0,
   "metadata": {
    "colab": {
     "base_uri": "https://localhost:8080/",
     "height": 34
    },
    "colab_type": "code",
    "executionInfo": {
     "elapsed": 970,
     "status": "ok",
     "timestamp": 1570262857533,
     "user": {
      "displayName": "Himanshu Singh",
      "photoUrl": "https://lh3.googleusercontent.com/a-/AAuE7mCk6gm_Z9iO-YyYJ5P8bVuPC_OZR14I3EHVt_VKgg=s64",
      "userId": "16757715009564006896"
     },
     "user_tz": -330
    },
    "id": "4xCPP34x8JD5",
    "outputId": "327c9a5c-4c90-4df6-e012-d07b83fec508"
   },
   "outputs": [
    {
     "data": {
      "text/plain": [
       "(1, 32, 32, 3)"
      ]
     },
     "execution_count": 53,
     "metadata": {
      "tags": []
     },
     "output_type": "execute_result"
    }
   ],
   "source": [
    "new_img = new_img.reshape([1,32,32,3])\n",
    "new_img.shape"
   ]
  },
  {
   "cell_type": "code",
   "execution_count": 0,
   "metadata": {
    "colab": {},
    "colab_type": "code",
    "id": "tu_Yu90s8UZv"
   },
   "outputs": [],
   "source": [
    "prediction = model.predict_classes(new_img)"
   ]
  },
  {
   "cell_type": "code",
   "execution_count": 0,
   "metadata": {
    "colab": {
     "base_uri": "https://localhost:8080/",
     "height": 34
    },
    "colab_type": "code",
    "executionInfo": {
     "elapsed": 1373,
     "status": "ok",
     "timestamp": 1570262861600,
     "user": {
      "displayName": "Himanshu Singh",
      "photoUrl": "https://lh3.googleusercontent.com/a-/AAuE7mCk6gm_Z9iO-YyYJ5P8bVuPC_OZR14I3EHVt_VKgg=s64",
      "userId": "16757715009564006896"
     },
     "user_tz": -330
    },
    "id": "OIwJrAT98ZkU",
    "outputId": "8ebbef2f-883c-4239-a4b7-136ad216f3c3"
   },
   "outputs": [
    {
     "data": {
      "text/plain": [
       "'truck'"
      ]
     },
     "execution_count": 55,
     "metadata": {
      "tags": []
     },
     "output_type": "execute_result"
    }
   ],
   "source": [
    "class_names[prediction[0]]"
   ]
  },
  {
   "cell_type": "markdown",
   "metadata": {
    "colab_type": "text",
    "id": "NzYqqVb2Skm0"
   },
   "source": [
    "# Improving the accuracy\n"
   ]
  },
  {
   "cell_type": "code",
   "execution_count": 0,
   "metadata": {
    "colab": {},
    "colab_type": "code",
    "id": "Rs0kJeHVSo0c"
   },
   "outputs": [],
   "source": [
    "from keras.constraints import maxnorm\n",
    "from keras.layers import GlobalAveragePooling2D\n",
    "from keras.preprocessing.image import ImageDataGenerator"
   ]
  },
  {
   "cell_type": "markdown",
   "metadata": {
    "colab_type": "text",
    "id": "np9Wk-xQGund"
   },
   "source": [
    "Augment the data"
   ]
  },
  {
   "cell_type": "code",
   "execution_count": 0,
   "metadata": {
    "colab": {},
    "colab_type": "code",
    "id": "lzjNAcGPGw66"
   },
   "outputs": [],
   "source": [
    "datagen = ImageDataGenerator(\n",
    "    featurewise_center= False,\n",
    "    samplewise_center=False,\n",
    "    featurewise_std_normalization=False,\n",
    "    samplewise_std_normalization=False,\n",
    "    zca_whitening=False,\n",
    "    rotation_range=45,\n",
    "    width_shift_range=0.2,\n",
    "    height_shift_range=0.2,\n",
    "    horizontal_flip=True,\n",
    "    vertical_flip=False\n",
    ")\n",
    "\n",
    "datagen.fit(images_train)"
   ]
  },
  {
   "cell_type": "code",
   "execution_count": 0,
   "metadata": {
    "colab": {
     "base_uri": "https://localhost:8080/",
     "height": 723
    },
    "colab_type": "code",
    "executionInfo": {
     "elapsed": 1590,
     "status": "ok",
     "timestamp": 1570585669348,
     "user": {
      "displayName": "Himanshu Singh",
      "photoUrl": "https://lh3.googleusercontent.com/a-/AAuE7mCk6gm_Z9iO-YyYJ5P8bVuPC_OZR14I3EHVt_VKgg=s64",
      "userId": "16757715009564006896"
     },
     "user_tz": -330
    },
    "id": "p4sdlYnUHq_M",
    "outputId": "a26e5f4d-f54b-4198-e7d0-f6416f9e182e"
   },
   "outputs": [
    {
     "name": "stdout",
     "output_type": "stream",
     "text": [
      "WARNING:tensorflow:From /usr/local/lib/python3.6/dist-packages/keras/backend/tensorflow_backend.py:66: The name tf.get_default_graph is deprecated. Please use tf.compat.v1.get_default_graph instead.\n",
      "\n",
      "WARNING:tensorflow:From /usr/local/lib/python3.6/dist-packages/keras/backend/tensorflow_backend.py:4267: The name tf.nn.max_pool is deprecated. Please use tf.nn.max_pool2d instead.\n",
      "\n",
      "WARNING:tensorflow:From /usr/local/lib/python3.6/dist-packages/keras/backend/tensorflow_backend.py:3733: calling dropout (from tensorflow.python.ops.nn_ops) with keep_prob is deprecated and will be removed in a future version.\n",
      "Instructions for updating:\n",
      "Please use `rate` instead of `keep_prob`. Rate should be set to `rate = 1 - keep_prob`.\n",
      "Model: \"sequential_1\"\n",
      "_________________________________________________________________\n",
      "Layer (type)                 Output Shape              Param #   \n",
      "=================================================================\n",
      "conv2d_1 (Conv2D)            (None, 32, 32, 96)        2688      \n",
      "_________________________________________________________________\n",
      "conv2d_2 (Conv2D)            (None, 30, 30, 96)        83040     \n",
      "_________________________________________________________________\n",
      "max_pooling2d_1 (MaxPooling2 (None, 15, 15, 96)        0         \n",
      "_________________________________________________________________\n",
      "dropout_1 (Dropout)          (None, 15, 15, 96)        0         \n",
      "_________________________________________________________________\n",
      "conv2d_3 (Conv2D)            (None, 15, 15, 192)       166080    \n",
      "_________________________________________________________________\n",
      "conv2d_4 (Conv2D)            (None, 13, 13, 192)       331968    \n",
      "_________________________________________________________________\n",
      "max_pooling2d_2 (MaxPooling2 (None, 6, 6, 192)         0         \n",
      "_________________________________________________________________\n",
      "dropout_2 (Dropout)          (None, 6, 6, 192)         0         \n",
      "_________________________________________________________________\n",
      "flatten_1 (Flatten)          (None, 6912)              0         \n",
      "_________________________________________________________________\n",
      "dense_1 (Dense)              (None, 512)               3539456   \n",
      "_________________________________________________________________\n",
      "dropout_3 (Dropout)          (None, 512)               0         \n",
      "_________________________________________________________________\n",
      "dense_2 (Dense)              (None, 10)                5130      \n",
      "=================================================================\n",
      "Total params: 4,128,362\n",
      "Trainable params: 4,128,362\n",
      "Non-trainable params: 0\n",
      "_________________________________________________________________\n"
     ]
    }
   ],
   "source": [
    "augmented_model = cnn_model()"
   ]
  },
  {
   "cell_type": "code",
   "execution_count": 0,
   "metadata": {
    "colab": {},
    "colab_type": "code",
    "id": "nmxMViPvIARu"
   },
   "outputs": [],
   "source": [
    "augmented_checkpoint = ModelCheckpoint('augmented_best_model.h5',\n",
    "                                      monitor='val_loss',\n",
    "                                      verbose=0,\n",
    "                                      save_best_only = True,\n",
    "                                      mode='auto')"
   ]
  },
  {
   "cell_type": "code",
   "execution_count": 0,
   "metadata": {
    "colab": {
     "base_uri": "https://localhost:8080/",
     "height": 52
    },
    "colab_type": "code",
    "executionInfo": {
     "elapsed": 1588,
     "status": "ok",
     "timestamp": 1570585679585,
     "user": {
      "displayName": "Himanshu Singh",
      "photoUrl": "https://lh3.googleusercontent.com/a-/AAuE7mCk6gm_Z9iO-YyYJ5P8bVuPC_OZR14I3EHVt_VKgg=s64",
      "userId": "16757715009564006896"
     },
     "user_tz": -330
    },
    "id": "Tfw35N9-IYAw",
    "outputId": "a844378e-ed54-4cae-bf17-62fba123d63b"
   },
   "outputs": [
    {
     "name": "stdout",
     "output_type": "stream",
     "text": [
      "WARNING:tensorflow:From /usr/local/lib/python3.6/dist-packages/keras/optimizers.py:793: The name tf.train.Optimizer is deprecated. Please use tf.compat.v1.train.Optimizer instead.\n",
      "\n"
     ]
    }
   ],
   "source": [
    "augmented_model.compile(loss='categorical_crossentropy',\n",
    "                       optimizer=Adam(lr=1.0e-4),\n",
    "                       metrics=['accuracy'])"
   ]
  },
  {
   "cell_type": "code",
   "execution_count": 0,
   "metadata": {
    "colab": {
     "base_uri": "https://localhost:8080/",
     "height": 1000
    },
    "colab_type": "code",
    "executionInfo": {
     "elapsed": 221221,
     "status": "ok",
     "timestamp": 1570593230986,
     "user": {
      "displayName": "Himanshu Singh",
      "photoUrl": "https://lh3.googleusercontent.com/a-/AAuE7mCk6gm_Z9iO-YyYJ5P8bVuPC_OZR14I3EHVt_VKgg=s64",
      "userId": "16757715009564006896"
     },
     "user_tz": -330
    },
    "id": "1hO5V0XjItDN",
    "outputId": "522bb6c7-3602-4d6d-97ad-127c333e3ac3"
   },
   "outputs": [
    {
     "name": "stdout",
     "output_type": "stream",
     "text": [
      "WARNING:tensorflow:From /usr/local/lib/python3.6/dist-packages/tensorflow_core/python/ops/math_grad.py:1424: where (from tensorflow.python.ops.array_ops) is deprecated and will be removed in a future version.\n",
      "Instructions for updating:\n",
      "Use tf.where in 2.0, which has the same broadcast rule as np.where\n",
      "Epoch 1/150\n",
      " - 58s - loss: 1.8656 - acc: 0.3107 - val_loss: 1.4746 - val_acc: 0.4616\n",
      "Epoch 2/150\n",
      " - 51s - loss: 1.6242 - acc: 0.4108 - val_loss: 1.4504 - val_acc: 0.4844\n",
      "Epoch 3/150\n",
      " - 51s - loss: 1.4775 - acc: 0.4658 - val_loss: 1.2326 - val_acc: 0.5588\n",
      "Epoch 4/150\n",
      " - 51s - loss: 1.3880 - acc: 0.4994 - val_loss: 1.1785 - val_acc: 0.5822\n",
      "Epoch 5/150\n",
      " - 51s - loss: 1.3233 - acc: 0.5265 - val_loss: 1.1557 - val_acc: 0.5895\n",
      "Epoch 6/150\n",
      " - 51s - loss: 1.2719 - acc: 0.5442 - val_loss: 1.0873 - val_acc: 0.6102\n",
      "Epoch 7/150\n",
      " - 51s - loss: 1.2153 - acc: 0.5652 - val_loss: 1.0103 - val_acc: 0.6411\n",
      "Epoch 8/150\n",
      " - 51s - loss: 1.1781 - acc: 0.5809 - val_loss: 1.0457 - val_acc: 0.6309\n",
      "Epoch 9/150\n",
      " - 51s - loss: 1.1444 - acc: 0.5921 - val_loss: 1.1556 - val_acc: 0.5983\n",
      "Epoch 10/150\n",
      " - 51s - loss: 1.1112 - acc: 0.6070 - val_loss: 1.0723 - val_acc: 0.6280\n",
      "Epoch 11/150\n",
      " - 51s - loss: 1.0878 - acc: 0.6139 - val_loss: 0.9876 - val_acc: 0.6552\n",
      "Epoch 12/150\n",
      " - 51s - loss: 1.0568 - acc: 0.6271 - val_loss: 0.9329 - val_acc: 0.6741\n",
      "Epoch 13/150\n",
      " - 50s - loss: 1.0299 - acc: 0.6396 - val_loss: 1.0337 - val_acc: 0.6465\n",
      "Epoch 14/150\n",
      " - 51s - loss: 1.0087 - acc: 0.6447 - val_loss: 0.8228 - val_acc: 0.7143\n",
      "Epoch 15/150\n",
      " - 50s - loss: 0.9911 - acc: 0.6514 - val_loss: 0.8614 - val_acc: 0.7063\n",
      "Epoch 16/150\n",
      " - 50s - loss: 0.9693 - acc: 0.6603 - val_loss: 0.8487 - val_acc: 0.7022\n",
      "Epoch 17/150\n",
      " - 50s - loss: 0.9460 - acc: 0.6692 - val_loss: 0.8246 - val_acc: 0.7105\n",
      "Epoch 18/150\n",
      " - 50s - loss: 0.9355 - acc: 0.6727 - val_loss: 0.8738 - val_acc: 0.6982\n",
      "Epoch 19/150\n",
      " - 50s - loss: 0.9174 - acc: 0.6797 - val_loss: 0.8665 - val_acc: 0.7029\n",
      "Epoch 20/150\n",
      " - 50s - loss: 0.9009 - acc: 0.6840 - val_loss: 0.8135 - val_acc: 0.7116\n",
      "Epoch 21/150\n",
      " - 50s - loss: 0.8873 - acc: 0.6892 - val_loss: 0.8046 - val_acc: 0.7290\n",
      "Epoch 22/150\n",
      " - 50s - loss: 0.8702 - acc: 0.6941 - val_loss: 0.7735 - val_acc: 0.7325\n",
      "Epoch 23/150\n",
      " - 50s - loss: 0.8629 - acc: 0.6979 - val_loss: 0.7977 - val_acc: 0.7227\n",
      "Epoch 24/150\n",
      " - 50s - loss: 0.8477 - acc: 0.7065 - val_loss: 0.7598 - val_acc: 0.7404\n",
      "Epoch 25/150\n",
      " - 50s - loss: 0.8361 - acc: 0.7071 - val_loss: 0.7753 - val_acc: 0.7365\n",
      "Epoch 26/150\n",
      " - 50s - loss: 0.8215 - acc: 0.7113 - val_loss: 0.7250 - val_acc: 0.7498\n",
      "Epoch 27/150\n",
      " - 50s - loss: 0.8135 - acc: 0.7173 - val_loss: 0.7960 - val_acc: 0.7304\n",
      "Epoch 28/150\n",
      " - 50s - loss: 0.8048 - acc: 0.7196 - val_loss: 0.7163 - val_acc: 0.7553\n",
      "Epoch 29/150\n",
      " - 50s - loss: 0.7931 - acc: 0.7238 - val_loss: 0.7609 - val_acc: 0.7424\n",
      "Epoch 30/150\n",
      " - 51s - loss: 0.7799 - acc: 0.7275 - val_loss: 0.7557 - val_acc: 0.7417\n",
      "Epoch 31/150\n",
      " - 51s - loss: 0.7735 - acc: 0.7306 - val_loss: 0.6663 - val_acc: 0.7719\n",
      "Epoch 32/150\n",
      " - 50s - loss: 0.7691 - acc: 0.7327 - val_loss: 0.6819 - val_acc: 0.7704\n",
      "Epoch 33/150\n",
      " - 51s - loss: 0.7600 - acc: 0.7353 - val_loss: 0.6620 - val_acc: 0.7723\n",
      "Epoch 34/150\n",
      " - 50s - loss: 0.7504 - acc: 0.7385 - val_loss: 0.6676 - val_acc: 0.7724\n",
      "Epoch 35/150\n",
      " - 50s - loss: 0.7390 - acc: 0.7432 - val_loss: 0.6553 - val_acc: 0.7816\n",
      "Epoch 36/150\n",
      " - 50s - loss: 0.7292 - acc: 0.7468 - val_loss: 0.6370 - val_acc: 0.7800\n",
      "Epoch 37/150\n",
      " - 50s - loss: 0.7228 - acc: 0.7485 - val_loss: 0.6821 - val_acc: 0.7730\n",
      "Epoch 38/150\n",
      " - 50s - loss: 0.7177 - acc: 0.7507 - val_loss: 0.6740 - val_acc: 0.7703\n",
      "Epoch 39/150\n",
      " - 50s - loss: 0.7099 - acc: 0.7535 - val_loss: 0.6669 - val_acc: 0.7737\n",
      "Epoch 40/150\n",
      " - 51s - loss: 0.7045 - acc: 0.7531 - val_loss: 0.7176 - val_acc: 0.7619\n",
      "Epoch 41/150\n",
      " - 51s - loss: 0.6923 - acc: 0.7602 - val_loss: 0.5980 - val_acc: 0.7934\n",
      "Epoch 42/150\n",
      " - 50s - loss: 0.6833 - acc: 0.7633 - val_loss: 0.6163 - val_acc: 0.7889\n",
      "Epoch 43/150\n",
      " - 50s - loss: 0.6830 - acc: 0.7652 - val_loss: 0.6644 - val_acc: 0.7786\n",
      "Epoch 44/150\n",
      " - 50s - loss: 0.6769 - acc: 0.7652 - val_loss: 0.6196 - val_acc: 0.7892\n",
      "Epoch 45/150\n",
      " - 50s - loss: 0.6735 - acc: 0.7652 - val_loss: 0.6402 - val_acc: 0.7846\n",
      "Epoch 46/150\n",
      " - 50s - loss: 0.6676 - acc: 0.7692 - val_loss: 0.5993 - val_acc: 0.7978\n",
      "Epoch 47/150\n",
      " - 50s - loss: 0.6611 - acc: 0.7699 - val_loss: 0.5586 - val_acc: 0.8094\n",
      "Epoch 48/150\n",
      " - 50s - loss: 0.6557 - acc: 0.7719 - val_loss: 0.5997 - val_acc: 0.7966\n",
      "Epoch 49/150\n",
      " - 50s - loss: 0.6478 - acc: 0.7752 - val_loss: 0.6018 - val_acc: 0.8000\n",
      "Epoch 50/150\n",
      " - 50s - loss: 0.6477 - acc: 0.7754 - val_loss: 0.5773 - val_acc: 0.8038\n",
      "Epoch 51/150\n",
      " - 50s - loss: 0.6366 - acc: 0.7792 - val_loss: 0.5644 - val_acc: 0.8116\n",
      "Epoch 52/150\n",
      " - 50s - loss: 0.6363 - acc: 0.7810 - val_loss: 0.5506 - val_acc: 0.8171\n",
      "Epoch 53/150\n",
      " - 50s - loss: 0.6304 - acc: 0.7821 - val_loss: 0.5989 - val_acc: 0.7995\n",
      "Epoch 54/150\n",
      " - 50s - loss: 0.6200 - acc: 0.7836 - val_loss: 0.5535 - val_acc: 0.8108\n",
      "Epoch 55/150\n",
      " - 50s - loss: 0.6217 - acc: 0.7858 - val_loss: 0.6393 - val_acc: 0.7858\n",
      "Epoch 56/150\n",
      " - 50s - loss: 0.6103 - acc: 0.7891 - val_loss: 0.5640 - val_acc: 0.8070\n",
      "Epoch 57/150\n",
      " - 50s - loss: 0.6128 - acc: 0.7875 - val_loss: 0.5833 - val_acc: 0.8076\n",
      "Epoch 58/150\n",
      " - 50s - loss: 0.6086 - acc: 0.7892 - val_loss: 0.5466 - val_acc: 0.8174\n",
      "Epoch 59/150\n",
      " - 50s - loss: 0.6069 - acc: 0.7893 - val_loss: 0.5467 - val_acc: 0.8168\n",
      "Epoch 60/150\n",
      " - 50s - loss: 0.5979 - acc: 0.7937 - val_loss: 0.5693 - val_acc: 0.8093\n",
      "Epoch 61/150\n",
      " - 50s - loss: 0.6032 - acc: 0.7904 - val_loss: 0.5344 - val_acc: 0.8243\n",
      "Epoch 62/150\n",
      " - 50s - loss: 0.5913 - acc: 0.7947 - val_loss: 0.5740 - val_acc: 0.8076\n",
      "Epoch 63/150\n",
      " - 50s - loss: 0.5895 - acc: 0.7965 - val_loss: 0.5635 - val_acc: 0.8119\n",
      "Epoch 64/150\n",
      " - 50s - loss: 0.5861 - acc: 0.7968 - val_loss: 0.5302 - val_acc: 0.8198\n",
      "Epoch 65/150\n",
      " - 50s - loss: 0.5774 - acc: 0.7991 - val_loss: 0.4888 - val_acc: 0.8340\n",
      "Epoch 66/150\n",
      " - 50s - loss: 0.5783 - acc: 0.8021 - val_loss: 0.5418 - val_acc: 0.8208\n",
      "Epoch 67/150\n",
      " - 50s - loss: 0.5763 - acc: 0.7989 - val_loss: 0.6381 - val_acc: 0.7905\n",
      "Epoch 68/150\n",
      " - 50s - loss: 0.5689 - acc: 0.8030 - val_loss: 0.5418 - val_acc: 0.8182\n",
      "Epoch 69/150\n",
      " - 50s - loss: 0.5643 - acc: 0.8060 - val_loss: 0.5369 - val_acc: 0.8191\n",
      "Epoch 70/150\n",
      " - 50s - loss: 0.5618 - acc: 0.8057 - val_loss: 0.4871 - val_acc: 0.8379\n",
      "Epoch 71/150\n",
      " - 50s - loss: 0.5663 - acc: 0.8046 - val_loss: 0.5256 - val_acc: 0.8252\n",
      "Epoch 72/150\n",
      " - 50s - loss: 0.5550 - acc: 0.8078 - val_loss: 0.5666 - val_acc: 0.8125\n",
      "Epoch 73/150\n",
      " - 50s - loss: 0.5594 - acc: 0.8064 - val_loss: 0.5065 - val_acc: 0.8325\n",
      "Epoch 74/150\n",
      " - 50s - loss: 0.5540 - acc: 0.8099 - val_loss: 0.5504 - val_acc: 0.8188\n",
      "Epoch 75/150\n",
      " - 50s - loss: 0.5497 - acc: 0.8103 - val_loss: 0.5068 - val_acc: 0.8328\n",
      "Epoch 76/150\n",
      " - 50s - loss: 0.5448 - acc: 0.8118 - val_loss: 0.5034 - val_acc: 0.8300\n",
      "Epoch 77/150\n",
      " - 50s - loss: 0.5477 - acc: 0.8099 - val_loss: 0.4736 - val_acc: 0.8407\n",
      "Epoch 78/150\n",
      " - 50s - loss: 0.5411 - acc: 0.8118 - val_loss: 0.5394 - val_acc: 0.8219\n",
      "Epoch 79/150\n",
      " - 50s - loss: 0.5396 - acc: 0.8128 - val_loss: 0.5010 - val_acc: 0.8330\n",
      "Epoch 80/150\n",
      " - 50s - loss: 0.5336 - acc: 0.8162 - val_loss: 0.5192 - val_acc: 0.8278\n",
      "Epoch 81/150\n",
      " - 50s - loss: 0.5346 - acc: 0.8156 - val_loss: 0.5596 - val_acc: 0.8144\n",
      "Epoch 82/150\n",
      " - 50s - loss: 0.5326 - acc: 0.8164 - val_loss: 0.4859 - val_acc: 0.8374\n",
      "Epoch 83/150\n",
      " - 50s - loss: 0.5259 - acc: 0.8163 - val_loss: 0.5242 - val_acc: 0.8249\n",
      "Epoch 84/150\n",
      " - 50s - loss: 0.5263 - acc: 0.8157 - val_loss: 0.4844 - val_acc: 0.8411\n",
      "Epoch 85/150\n",
      " - 50s - loss: 0.5220 - acc: 0.8186 - val_loss: 0.5473 - val_acc: 0.8196\n",
      "Epoch 86/150\n",
      " - 50s - loss: 0.5231 - acc: 0.8190 - val_loss: 0.5307 - val_acc: 0.8226\n",
      "Epoch 87/150\n",
      " - 50s - loss: 0.5210 - acc: 0.8202 - val_loss: 0.5020 - val_acc: 0.8329\n",
      "Epoch 88/150\n",
      " - 50s - loss: 0.5068 - acc: 0.8256 - val_loss: 0.4920 - val_acc: 0.8397\n",
      "Epoch 89/150\n",
      " - 50s - loss: 0.5112 - acc: 0.8221 - val_loss: 0.4666 - val_acc: 0.8423\n",
      "Epoch 90/150\n",
      " - 50s - loss: 0.5145 - acc: 0.8234 - val_loss: 0.4943 - val_acc: 0.8362\n",
      "Epoch 91/150\n",
      " - 50s - loss: 0.5057 - acc: 0.8246 - val_loss: 0.5132 - val_acc: 0.8327\n",
      "Epoch 92/150\n",
      " - 50s - loss: 0.5039 - acc: 0.8258 - val_loss: 0.4650 - val_acc: 0.8424\n",
      "Epoch 93/150\n",
      " - 50s - loss: 0.5023 - acc: 0.8274 - val_loss: 0.5312 - val_acc: 0.8245\n",
      "Epoch 94/150\n",
      " - 50s - loss: 0.5035 - acc: 0.8236 - val_loss: 0.5046 - val_acc: 0.8314\n",
      "Epoch 95/150\n",
      " - 50s - loss: 0.4923 - acc: 0.8303 - val_loss: 0.5016 - val_acc: 0.8340\n",
      "Epoch 96/150\n",
      " - 50s - loss: 0.4985 - acc: 0.8265 - val_loss: 0.4871 - val_acc: 0.8399\n",
      "Epoch 97/150\n",
      " - 50s - loss: 0.4907 - acc: 0.8304 - val_loss: 0.4836 - val_acc: 0.8405\n",
      "Epoch 98/150\n",
      " - 50s - loss: 0.4929 - acc: 0.8287 - val_loss: 0.5566 - val_acc: 0.8213\n",
      "Epoch 99/150\n",
      " - 50s - loss: 0.4964 - acc: 0.8284 - val_loss: 0.4957 - val_acc: 0.8365\n",
      "Epoch 100/150\n",
      " - 50s - loss: 0.4894 - acc: 0.8310 - val_loss: 0.4549 - val_acc: 0.8510\n",
      "Epoch 101/150\n",
      " - 50s - loss: 0.4876 - acc: 0.8316 - val_loss: 0.4534 - val_acc: 0.8501\n",
      "Epoch 102/150\n",
      " - 50s - loss: 0.4866 - acc: 0.8322 - val_loss: 0.4792 - val_acc: 0.8391\n",
      "Epoch 103/150\n",
      " - 50s - loss: 0.4874 - acc: 0.8312 - val_loss: 0.4928 - val_acc: 0.8382\n",
      "Epoch 104/150\n",
      " - 50s - loss: 0.4825 - acc: 0.8330 - val_loss: 0.4713 - val_acc: 0.8436\n",
      "Epoch 105/150\n",
      " - 50s - loss: 0.4847 - acc: 0.8322 - val_loss: 0.5113 - val_acc: 0.8346\n",
      "Epoch 106/150\n",
      " - 50s - loss: 0.4741 - acc: 0.8363 - val_loss: 0.4834 - val_acc: 0.8439\n",
      "Epoch 107/150\n",
      " - 50s - loss: 0.4768 - acc: 0.8341 - val_loss: 0.5446 - val_acc: 0.8256\n",
      "Epoch 108/150\n",
      " - 50s - loss: 0.4800 - acc: 0.8345 - val_loss: 0.5045 - val_acc: 0.8386\n",
      "Epoch 109/150\n",
      " - 50s - loss: 0.4692 - acc: 0.8372 - val_loss: 0.4831 - val_acc: 0.8379\n",
      "Epoch 110/150\n",
      " - 50s - loss: 0.4736 - acc: 0.8352 - val_loss: 0.4714 - val_acc: 0.8441\n",
      "Epoch 111/150\n",
      " - 50s - loss: 0.4705 - acc: 0.8388 - val_loss: 0.4794 - val_acc: 0.8422\n",
      "Epoch 112/150\n",
      " - 50s - loss: 0.4697 - acc: 0.8377 - val_loss: 0.5199 - val_acc: 0.8297\n",
      "Epoch 113/150\n",
      " - 50s - loss: 0.4679 - acc: 0.8402 - val_loss: 0.5189 - val_acc: 0.8304\n",
      "Epoch 114/150\n",
      " - 50s - loss: 0.4637 - acc: 0.8393 - val_loss: 0.4529 - val_acc: 0.8489\n",
      "Epoch 115/150\n",
      " - 50s - loss: 0.4671 - acc: 0.8369 - val_loss: 0.4855 - val_acc: 0.8423\n",
      "Epoch 116/150\n",
      " - 50s - loss: 0.4609 - acc: 0.8408 - val_loss: 0.4878 - val_acc: 0.8452\n",
      "Epoch 117/150\n",
      " - 50s - loss: 0.4600 - acc: 0.8423 - val_loss: 0.4992 - val_acc: 0.8373\n",
      "Epoch 118/150\n",
      " - 50s - loss: 0.4576 - acc: 0.8417 - val_loss: 0.4974 - val_acc: 0.8380\n",
      "Epoch 119/150\n",
      " - 50s - loss: 0.4602 - acc: 0.8394 - val_loss: 0.4627 - val_acc: 0.8460\n",
      "Epoch 120/150\n",
      " - 50s - loss: 0.4549 - acc: 0.8429 - val_loss: 0.4864 - val_acc: 0.8419\n",
      "Epoch 121/150\n",
      " - 50s - loss: 0.4574 - acc: 0.8416 - val_loss: 0.5119 - val_acc: 0.8339\n",
      "Epoch 122/150\n",
      " - 50s - loss: 0.4465 - acc: 0.8441 - val_loss: 0.4875 - val_acc: 0.8435\n",
      "Epoch 123/150\n",
      " - 50s - loss: 0.4546 - acc: 0.8429 - val_loss: 0.4486 - val_acc: 0.8492\n",
      "Epoch 124/150\n",
      " - 50s - loss: 0.4493 - acc: 0.8458 - val_loss: 0.4504 - val_acc: 0.8511\n",
      "Epoch 125/150\n",
      " - 50s - loss: 0.4530 - acc: 0.8419 - val_loss: 0.5046 - val_acc: 0.8353\n",
      "Epoch 126/150\n",
      " - 50s - loss: 0.4488 - acc: 0.8430 - val_loss: 0.5042 - val_acc: 0.8350\n",
      "Epoch 127/150\n",
      " - 50s - loss: 0.4477 - acc: 0.8452 - val_loss: 0.4912 - val_acc: 0.8440\n",
      "Epoch 128/150\n",
      " - 50s - loss: 0.4434 - acc: 0.8458 - val_loss: 0.4609 - val_acc: 0.8488\n",
      "Epoch 129/150\n",
      " - 50s - loss: 0.4408 - acc: 0.8459 - val_loss: 0.4451 - val_acc: 0.8554\n",
      "Epoch 130/150\n",
      " - 51s - loss: 0.4437 - acc: 0.8452 - val_loss: 0.4547 - val_acc: 0.8518\n",
      "Epoch 131/150\n",
      " - 50s - loss: 0.4458 - acc: 0.8450 - val_loss: 0.4943 - val_acc: 0.8445\n",
      "Epoch 132/150\n",
      " - 50s - loss: 0.4385 - acc: 0.8493 - val_loss: 0.4293 - val_acc: 0.8562\n",
      "Epoch 133/150\n",
      " - 50s - loss: 0.4438 - acc: 0.8456 - val_loss: 0.4487 - val_acc: 0.8539\n",
      "Epoch 134/150\n",
      " - 50s - loss: 0.4365 - acc: 0.8472 - val_loss: 0.4643 - val_acc: 0.8521\n",
      "Epoch 135/150\n",
      " - 50s - loss: 0.4347 - acc: 0.8497 - val_loss: 0.5080 - val_acc: 0.8379\n",
      "Epoch 136/150\n",
      " - 50s - loss: 0.4332 - acc: 0.8494 - val_loss: 0.4197 - val_acc: 0.8647\n",
      "Epoch 137/150\n",
      " - 50s - loss: 0.4300 - acc: 0.8501 - val_loss: 0.4649 - val_acc: 0.8473\n",
      "Epoch 138/150\n",
      " - 50s - loss: 0.4318 - acc: 0.8496 - val_loss: 0.4351 - val_acc: 0.8585\n",
      "Epoch 139/150\n",
      " - 50s - loss: 0.4238 - acc: 0.8526 - val_loss: 0.5148 - val_acc: 0.8333\n",
      "Epoch 140/150\n",
      " - 50s - loss: 0.4340 - acc: 0.8508 - val_loss: 0.4672 - val_acc: 0.8486\n",
      "Epoch 141/150\n",
      " - 50s - loss: 0.4268 - acc: 0.8529 - val_loss: 0.4783 - val_acc: 0.8478\n",
      "Epoch 142/150\n",
      " - 50s - loss: 0.4249 - acc: 0.8518 - val_loss: 0.4660 - val_acc: 0.8496\n",
      "Epoch 143/150\n",
      " - 50s - loss: 0.4278 - acc: 0.8528 - val_loss: 0.4656 - val_acc: 0.8519\n",
      "Epoch 144/150\n",
      " - 50s - loss: 0.4282 - acc: 0.8525 - val_loss: 0.4800 - val_acc: 0.8427\n",
      "Epoch 145/150\n",
      " - 50s - loss: 0.4221 - acc: 0.8545 - val_loss: 0.4628 - val_acc: 0.8506\n",
      "Epoch 146/150\n",
      " - 50s - loss: 0.4238 - acc: 0.8526 - val_loss: 0.5054 - val_acc: 0.8385\n",
      "Epoch 147/150\n",
      " - 50s - loss: 0.4206 - acc: 0.8536 - val_loss: 0.4722 - val_acc: 0.8484\n",
      "Epoch 148/150\n",
      " - 50s - loss: 0.4189 - acc: 0.8550 - val_loss: 0.4870 - val_acc: 0.8453\n",
      "Epoch 149/150\n",
      " - 50s - loss: 0.4195 - acc: 0.8551 - val_loss: 0.4772 - val_acc: 0.8489\n",
      "Epoch 150/150\n",
      " - 50s - loss: 0.4234 - acc: 0.8536 - val_loss: 0.4997 - val_acc: 0.8421\n"
     ]
    }
   ],
   "source": [
    "augmented_model_details = augmented_model.fit_generator(datagen.flow(images_train, labels_train, batch_size=32),\n",
    "                                                       steps_per_epoch=len(images_train)//32,\n",
    "                                                       epochs=150,\n",
    "                                                       validation_data=(images_test, labels_test),\n",
    "                                                       callbacks=[augmented_checkpoint],\n",
    "                                                       verbose=2)"
   ]
  },
  {
   "cell_type": "code",
   "execution_count": 0,
   "metadata": {
    "colab": {
     "base_uri": "https://localhost:8080/",
     "height": 34
    },
    "colab_type": "code",
    "executionInfo": {
     "elapsed": 1683,
     "status": "ok",
     "timestamp": 1570593287892,
     "user": {
      "displayName": "Himanshu Singh",
      "photoUrl": "https://lh3.googleusercontent.com/a-/AAuE7mCk6gm_Z9iO-YyYJ5P8bVuPC_OZR14I3EHVt_VKgg=s64",
      "userId": "16757715009564006896"
     },
     "user_tz": -330
    },
    "id": "vauvfms4M-5l",
    "outputId": "8af3e202-6c2d-40b6-c702-63e3f929a7c9"
   },
   "outputs": [
    {
     "name": "stdout",
     "output_type": "stream",
     "text": [
      "Saved model to drive\n"
     ]
    }
   ],
   "source": [
    "model_json = augmented_model.to_json()\n",
    "with open(\"model.json\", \"w\") as json_file:\n",
    "    json_file.write(model_json)\n",
    "augmented_model.save_weights(\"model_weights.h5\")\n",
    "print(\"Saved model to drive\")"
   ]
  },
  {
   "cell_type": "code",
   "execution_count": 0,
   "metadata": {
    "colab": {},
    "colab_type": "code",
    "id": "1aLY250pqdZY"
   },
   "outputs": [],
   "source": [
    "from google.colab import files\n",
    "files.download(\"model_weights.h5\")"
   ]
  }
 ],
 "metadata": {
  "accelerator": "GPU",
  "colab": {
   "collapsed_sections": [],
   "name": "CIFAR10_Project(Keras).ipynb",
   "provenance": []
  },
  "kernelspec": {
   "display_name": "Python 3",
   "language": "python",
   "name": "python3"
  },
  "language_info": {
   "codemirror_mode": {
    "name": "ipython",
    "version": 3
   },
   "file_extension": ".py",
   "mimetype": "text/x-python",
   "name": "python",
   "nbconvert_exporter": "python",
   "pygments_lexer": "ipython3",
   "version": "3.7.0"
  }
 },
 "nbformat": 4,
 "nbformat_minor": 1
}
